{
 "cells": [
  {
   "cell_type": "code",
   "execution_count": 1,
   "metadata": {},
   "outputs": [
    {
     "name": "stdout",
     "output_type": "stream",
     "text": [
      "env: AWS_ACCESS_KEY_ID=minio\n",
      "env: AWS_SECRET_ACCESS_KEY=minio123\n",
      "env: MLFLOW_S3_ENDPOINT_URL=http://localhost:9000\n"
     ]
    }
   ],
   "source": [
    "# Para que funciones, todos nuestros scripts debemos exportar las siguientes variables de entorno\n",
    "%env AWS_ACCESS_KEY_ID=minio   \n",
    "%env AWS_SECRET_ACCESS_KEY=minio123 \n",
    "%env MLFLOW_S3_ENDPOINT_URL=http://localhost:9000"
   ]
  },
  {
   "cell_type": "code",
   "execution_count": 2,
   "metadata": {},
   "outputs": [
    {
     "name": "stdout",
     "output_type": "stream",
     "text": [
      "$AWS_ACCESS_KEY_ID\n",
      "$AWS_SECRET_ACCESS_KEY\n",
      "$MLFLOW_S3_ENDPOINT_URL\n"
     ]
    }
   ],
   "source": [
    "!echo $AWS_ACCESS_KEY_ID\n",
    "!echo $AWS_SECRET_ACCESS_KEY\n",
    "!echo $MLFLOW_S3_ENDPOINT_URL"
   ]
  },
  {
   "cell_type": "code",
   "execution_count": 3,
   "metadata": {},
   "outputs": [
    {
     "name": "stderr",
     "output_type": "stream",
     "text": [
      "2024/04/22 00:15:22 INFO mlflow.tracking.fluent: Autologging successfully enabled for sklearn.\n",
      "2024/04/22 00:15:22 WARNING mlflow.spark: With Pyspark >= 3.2, PYSPARK_PIN_THREAD environment variable must be set to false for Spark datasource autologging to work.\n",
      "2024/04/22 00:15:22 INFO mlflow.tracking.fluent: Autologging successfully enabled for pyspark.\n",
      "2024/04/22 00:15:22 INFO mlflow.utils.autologging_utils: Created MLflow autologging run with ID '88e43440fe1c4aee93bf0f2071c15d74', which will track hyperparameters, performance metrics, model artifacts, and lineage information for the current sklearn workflow\n",
      "2024/04/22 00:15:22 WARNING mlflow.utils.autologging_utils: Encountered unexpected error during sklearn autologging: No module named 'boto3'\n"
     ]
    }
   ],
   "source": [
    "import mlflow\n",
    "from sklearn.model_selection import train_test_split\n",
    "from sklearn.datasets import load_diabetes\n",
    "from sklearn.ensemble import RandomForestRegressor\n",
    "\n",
    "mlflow.set_tracking_uri('http://localhost:5000') \n",
    "\n",
    "# set the experiment id\n",
    "experiment_name = \"test_experiment - TP AdM II Carlos Rodriguez\"\n",
    "mlflow.set_experiment(experiment_name)\n",
    "\n",
    "mlflow.autolog()\n",
    "db = load_diabetes()\n",
    "\n",
    "X_train, X_test, y_train, y_test = train_test_split(db.data, db.target)\n",
    "\n",
    "# Create and train models.\n",
    "rf = RandomForestRegressor(n_estimators=100, max_depth=6, max_features=3)\n",
    "rf.fit(X_train, y_train)\n",
    "\n",
    "# Use the model to make predictions on the test dataset.\n",
    "predictions = rf.predict(X_test)\n"
   ]
  },
  {
   "cell_type": "code",
   "execution_count": 4,
   "metadata": {},
   "outputs": [
    {
     "name": "stdout",
     "output_type": "stream",
     "text": [
      "{\"int_output\":true,\"str_output\":\"Heart disease detected\"}\n"
     ]
    }
   ],
   "source": [
    "import requests\n",
    "import json\n",
    "URL = 'http://localhost:8800/predict/'\n",
    "payload = {\"features\": {\n",
    "    #\"age\": 67,\n",
    "    \"age\":20,\n",
    "    \"ca\": 0,\n",
    "    #\"chol\": 286,\n",
    "    \"chol\": 110,\n",
    "    #\"cp\": 4,\n",
    "    \"cp\": 1,\n",
    "    \"exang\": 0,\n",
    "    \"fbs\": 0,\n",
    "    #\"oldpeak\": 1.5,\n",
    "    \"oldpeak\": 0,\n",
    "    \"restecg\": 2,\n",
    "    #\"sex\": 1,\n",
    "    \"sex\":0,\n",
    "    #\"slope\": 2,\n",
    "    \"slope\": 1,\n",
    "    \"thal\": 3,\n",
    "    \"thalach\": 50,\n",
    "    #\"trestbps\": 160\n",
    "    \"trestbps\": 90\n",
    "  }}\n",
    "headers = {'Content-type': 'application/json','accept': 'application/json'}\n",
    "\n",
    "response = requests.post(URL, data=json.dumps(payload), headers=headers)\n",
    "\n",
    "print (response.text)"
   ]
  }
 ],
 "metadata": {
  "kernelspec": {
   "display_name": "notebook_env_python3_11",
   "language": "python",
   "name": "python3"
  },
  "language_info": {
   "codemirror_mode": {
    "name": "ipython",
    "version": 3
   },
   "file_extension": ".py",
   "mimetype": "text/x-python",
   "name": "python",
   "nbconvert_exporter": "python",
   "pygments_lexer": "ipython3",
   "version": "3.8.3"
  }
 },
 "nbformat": 4,
 "nbformat_minor": 2
}
