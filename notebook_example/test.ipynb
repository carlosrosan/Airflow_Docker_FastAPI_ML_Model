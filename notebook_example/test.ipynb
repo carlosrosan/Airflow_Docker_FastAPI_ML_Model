{
 "cells": [
  {
   "cell_type": "code",
   "execution_count": 6,
   "metadata": {},
   "outputs": [
    {
     "name": "stdout",
     "output_type": "stream",
     "text": [
      "env: AWS_ACCESS_KEY_ID=minio\n",
      "env: AWS_SECRET_ACCESS_KEY=minio123\n",
      "env: MLFLOW_S3_ENDPOINT_URL=http://localhost:9000\n"
     ]
    }
   ],
   "source": [
    "# Para que funciones, todos nuestros scripts debemos exportar las siguientes variables de entorno\n",
    "%env AWS_ACCESS_KEY_ID=minio   \n",
    "%env AWS_SECRET_ACCESS_KEY=minio123 \n",
    "%env MLFLOW_S3_ENDPOINT_URL=http://localhost:9000"
   ]
  },
  {
   "cell_type": "code",
   "execution_count": 7,
   "metadata": {},
   "outputs": [
    {
     "name": "stdout",
     "output_type": "stream",
     "text": [
      "$AWS_ACCESS_KEY_ID\n"
     ]
    },
    {
     "name": "stdout",
     "output_type": "stream",
     "text": [
      "$AWS_SECRET_ACCESS_KEY\n",
      "$MLFLOW_S3_ENDPOINT_URL\n"
     ]
    }
   ],
   "source": [
    "!echo $AWS_ACCESS_KEY_ID\n",
    "!echo $AWS_SECRET_ACCESS_KEY\n",
    "!echo $MLFLOW_S3_ENDPOINT_URL"
   ]
  },
  {
   "cell_type": "code",
   "execution_count": 8,
   "metadata": {},
   "outputs": [
    {
     "data": {
      "text/plain": [
       "(70000, 784)"
      ]
     },
     "execution_count": 8,
     "metadata": {},
     "output_type": "execute_result"
    }
   ],
   "source": [
    "import mlflow\n",
    "from sklearn.model_selection import train_test_split\n",
    "from sklearn.datasets import load_diabetes\n",
    "from sklearn.ensemble import RandomForestRegressor\n",
    "import requests\n",
    "import json\n",
    "import sklearn\n",
    "import matplotlib\n",
    "from sklearn import datasets\n",
    "from sklearn.datasets import fetch_openml\n",
    "from matplotlib import pyplot as plt\n",
    "import numpy as np\n",
    "import pandas as pd\n",
    "from sklearn.tree import DecisionTreeClassifier\n",
    "from sklearn import metrics\n",
    "from sklearn.metrics import accuracy_score\n",
    "\n",
    "#mlflow.set_tracking_uri('http://localhost:5000') \n",
    "\n",
    "# set the experiment id\n",
    "experiment_name = \"mnist_784\"\n",
    "#mlflow.set_experiment(experiment_name)\n",
    "\n",
    "#mlflow.autolog()\n",
    "\n",
    "mnist = fetch_openml('mnist_784', as_frame = False)\n",
    "\n",
    "X_mnist_array = pd.DataFrame(mnist.data, columns=mnist.feature_names).to_numpy()\n",
    "y_mnist_array = pd.DataFrame(mnist.target, columns=['label']).to_numpy()\n",
    "\n",
    "X_digits=X_mnist_array \n",
    "y_digits=y_mnist_array\n",
    "\"\"\"\n",
    "X_train, X_test, y_train, y_test = train_test_split(X_digits,\n",
    "                                                  y_digits,\n",
    "                                                  test_size=0.3,\n",
    "                                                  random_state=32)\n",
    "\n",
    "tree_clf = DecisionTreeClassifier(criterion = 'entropy', max_depth = 10)\n",
    "tree_clf.fit(X_train, y_train)\n",
    "y_pred = tree_clf.predict(X_test)\n",
    "print(' ')\n",
    "print(f\"accuracy_score: {accuracy_score(y_test, y_pred)}\")\n",
    "print(f\"recall_score: {metrics.recall_score(y_test, y_pred, average = 'macro')}\")\n",
    "print(f\"f1_score: {metrics.f1_score(y_test, y_pred, average = 'macro')}\")\n",
    "\n",
    "\"\"\"\n",
    "X_digits.shape"
   ]
  },
  {
   "cell_type": "code",
   "execution_count": 9,
   "metadata": {},
   "outputs": [
    {
     "ename": "NameError",
     "evalue": "name 'X_test' is not defined",
     "output_type": "error",
     "traceback": [
      "\u001b[1;31m---------------------------------------------------------------------------\u001b[0m",
      "\u001b[1;31mNameError\u001b[0m                                 Traceback (most recent call last)",
      "\u001b[1;32m~\\AppData\\Local\\Temp/ipykernel_21396/2551912356.py\u001b[0m in \u001b[0;36m<module>\u001b[1;34m\u001b[0m\n\u001b[1;32m----> 1\u001b[1;33m \u001b[0mk\u001b[0m \u001b[1;33m=\u001b[0m \u001b[0mnp\u001b[0m\u001b[1;33m.\u001b[0m\u001b[0mrandom\u001b[0m\u001b[1;33m.\u001b[0m\u001b[0mrandint\u001b[0m\u001b[1;33m(\u001b[0m\u001b[0mX_test\u001b[0m\u001b[1;33m.\u001b[0m\u001b[0mshape\u001b[0m\u001b[1;33m[\u001b[0m\u001b[1;36m0\u001b[0m\u001b[1;33m]\u001b[0m\u001b[1;33m)\u001b[0m\u001b[1;33m\u001b[0m\u001b[1;33m\u001b[0m\u001b[0m\n\u001b[0m\u001b[0;32m      2\u001b[0m \u001b[1;33m\u001b[0m\u001b[0m\n\u001b[0;32m      3\u001b[0m \u001b[0mplt\u001b[0m\u001b[1;33m.\u001b[0m\u001b[0maxis\u001b[0m\u001b[1;33m(\u001b[0m\u001b[1;34m'off'\u001b[0m\u001b[1;33m)\u001b[0m\u001b[1;33m\u001b[0m\u001b[1;33m\u001b[0m\u001b[0m\n\u001b[0;32m      4\u001b[0m \u001b[0mplt\u001b[0m\u001b[1;33m.\u001b[0m\u001b[0mimshow\u001b[0m\u001b[1;33m(\u001b[0m\u001b[0mX_test\u001b[0m\u001b[1;33m[\u001b[0m\u001b[0mk\u001b[0m\u001b[1;33m]\u001b[0m\u001b[1;33m.\u001b[0m\u001b[0mreshape\u001b[0m\u001b[1;33m(\u001b[0m\u001b[1;36m28\u001b[0m\u001b[1;33m,\u001b[0m\u001b[1;36m28\u001b[0m\u001b[1;33m)\u001b[0m\u001b[1;33m,\u001b[0m \u001b[0mcmap\u001b[0m \u001b[1;33m=\u001b[0m \u001b[1;34m'gray'\u001b[0m\u001b[1;33m)\u001b[0m\u001b[1;33m\u001b[0m\u001b[1;33m\u001b[0m\u001b[0m\n",
      "\u001b[1;31mNameError\u001b[0m: name 'X_test' is not defined"
     ]
    }
   ],
   "source": [
    "k = np.random.randint(X_test.shape[0])\n",
    "\n",
    "plt.axis('off')\n",
    "plt.imshow(X_test[k].reshape(28,28), cmap = 'gray')"
   ]
  },
  {
   "cell_type": "code",
   "execution_count": null,
   "metadata": {},
   "outputs": [
    {
     "data": {
      "text/plain": [
       "'{\"message\":\"Welcome to the TP AdM II Carlos Rodriguez\"}'"
      ]
     },
     "execution_count": 25,
     "metadata": {},
     "output_type": "execute_result"
    }
   ],
   "source": [
    "URL = 'http://localhost:8800/'\n",
    "\n",
    "headers = {'Content-type': 'application/json','accept': 'application/json'}\n",
    "\n",
    "response = requests.get(URL, headers=headers)\n",
    "\n",
    "response.text"
   ]
  },
  {
   "cell_type": "code",
   "execution_count": null,
   "metadata": {},
   "outputs": [
    {
     "data": {
      "text/plain": [
       "'[0,0,0,0,0,0,0,0,0,0,0,0,0,0,0,0,0,0,0,0,0,0,0,0,0,0,0,0,0,0,0,0,0,0,0,0,0,0,0,0,0,0,0,0,0,0,0,0,0,0,0,0,0,0,0,0,0,0,0,0,0,0,0,0,0,0,0,0,0,0,0,0,0,0,0,0,0,0,0,0,0,0,0,0,0,0,0,0,0,0,0,0,0,0,0,0,0,0,0,0,0,0,0,0,0,0,0,0,0,0,0,0,0,0,0,0,0,0,0,0,0,0,0,0,0,0,0,0,0,0,0,0,0,0,0,0,0,0,0,0,0,0,0,0,0,0,0,0,0,0,0,0,0,0,0,0,0,0,0,0,0,0,0,0,0,0,0,0,0,0,0,0,0,0,0,0,0,0,0,0,0,0,0,0,0,0,0,0,0,0,0,0,0,0,0,0,0,0,0,0,0,0,0,0,0,0,0,13,78,161,221,254,254,254,162,65,0,0,0,0,0,0,0,0,0,0,0,0,0,0,0,0,0,0,38,159,253,253,254,253,253,253,254,249,222,55,0,0,0,0,0,0,0,0,0,0,0,0,0,0,0,43,187,253,225,137,46,46,46,46,138,234,253,236,85,0,0,0,0,0,0,0,0,0,0,0,0,0,0,127,254,185,13,0,0,0,0,0,0,138,253,253,184,0,0,0,0,0,0,0,0,0,0,0,0,0,24,254,210,9,0,0,0,0,0,0,70,212,254,254,93,0,0,0,0,0,0,0,0,0,0,0,0,0,24,253,197,21,0,0,0,0,38,114,212,253,232,173,9,0,0,0,0,0,0,0,0,0,0,0,0,0,13,221,254,211,30,0,0,89,245,253,239,96,25,0,0,0,0,0,0,0,0,0,0,0,0,0,0,0,0,84,220,253,213,93,119,247,253,185,25,0,0,0,0,0,0,0,0,0,0,0,0,0,0,0,0,0,0,0,26,189,254,254,255,254,146,0,0,0,0,0,0,0,0,0,0,0,0,0,0,0,0,0,0,0,0,0,0,5,111,253,254,177,4,0,0,0,0,0,0,0,0,0,0,0,0,0,0,0,0,0,0,0,0,0,0,0,74,253,254,228,21,0,0,0,0,0,0,0,0,0,0,0,0,0,0,0,0,0,0,0,0,0,0,34,240,219,120,253,46,0,0,0,0,0,0,0,0,0,0,0,0,0,0,0,0,0,0,0,0,0,0,106,239,25,45,245,46,0,0,0,0,0,0,0,0,0,0,0,0,0,0,0,0,0,0,0,0,0,13,226,179,0,87,253,46,0,0,0,0,0,0,0,0,0,0,0,0,0,0,0,0,0,0,0,0,0,70,232,42,0,203,173,9,0,0,0,0,0,0,0,0,0,0,0,0,0,0,0,0,0,0,0,0,0,104,206,0,0,254,48,0,0,0,0,0,0,0,0,0,0,0,0,0,0,0,0,0,0,0,0,0,0,162,182,0,85,236,17,0,0,0,0,0,0,0,0,0,0,0,0,0,0,0,0,0,0,0,0,0,0,212,115,30,222,118,0,0,0,0,0,0,0,0,0,0,0,0,0,0,0,0,0,0,0,0,0,0,0,203,211,178,202,0,0,0,0,0,0,0,0,0,0,0,0,0,0,0,0,0,0,0,0,0,0,0,0,45,245,202,19,0,0,0,0,0,0,0,0,0,0,0,0,0,0,0,0,0,0,0,0,0,0,0,0,0,0,0,0,0,0,0,0,0,0,0,0,0,0,0,0,0,0]'"
      ]
     },
     "execution_count": 26,
     "metadata": {},
     "output_type": "execute_result"
    }
   ],
   "source": [
    "URL = 'http://localhost:8800/print_image/'\n",
    "\n",
    "headers = {'Content-type': 'application/json','accept': 'application/json'}\n",
    "\n",
    "payload = {\"img\": \n",
    "    X_test[k].astype(int).tolist()\n",
    "  }\n",
    "\n",
    "response = requests.get(URL, data=json.dumps(payload), headers=headers)\n",
    "\n",
    "response.text"
   ]
  },
  {
   "cell_type": "code",
   "execution_count": null,
   "metadata": {},
   "outputs": [
    {
     "data": {
      "text/plain": [
       "'Internal Server Error'"
      ]
     },
     "execution_count": 27,
     "metadata": {},
     "output_type": "execute_result"
    }
   ],
   "source": [
    "URL = 'http://localhost:8800/predict_image/'\n",
    "\n",
    "headers = {'Content-type': 'application/json','accept': 'application/json'}\n",
    "\n",
    "payload = {\"img\": \n",
    "    X_test[k].astype(int).tolist()\n",
    "  }\n",
    "\n",
    "response = requests.post(URL, data=json.dumps(payload), headers=headers)\n",
    "\n",
    "response.text"
   ]
  },
  {
   "cell_type": "code",
   "execution_count": null,
   "metadata": {},
   "outputs": [
    {
     "data": {
      "text/plain": [
       "'{\"detail\":\"Not Found\"}'"
      ]
     },
     "execution_count": 28,
     "metadata": {},
     "output_type": "execute_result"
    }
   ],
   "source": [
    "URL = 'http://localhost:8800/predict/'\n",
    "\n",
    "headers = {'Content-type': 'application/json','accept': 'application/json'}\n",
    "\n",
    "payload = {\"img\": \n",
    "    X_test[k].astype(int).tolist()\n",
    "  }\n",
    "\n",
    "response = requests.post(URL, headers=headers)\n",
    "\n",
    "response.text"
   ]
  },
  {
   "cell_type": "code",
   "execution_count": null,
   "metadata": {},
   "outputs": [
    {
     "data": {
      "text/plain": [
       "'[0,0,0,0,0,0,0,0,0,0,0,0,0,0,0,0,0,0,0,0,0,0,0,0,0,0,0,0,0,0,0,0,0,0,0,0,0,0,0,0,0,0,0,0,0,0,0,0,0,0,0,0,0,0,0,0,0,0,0,0,0,0,0,0,0,0,0,0,0,0,0,0,0,0,0,0,0,0,0,0,0,0,0,0,0,0,0,0,0,0,0,0,0,0,0,0,0,0,0,0,0,0,0,0,0,0,0,0,0,0,0,0,0,0,0,0,0,0,0,0,0,0,0,0,0,0,0,0,0,0,0,0,0,0,0,0,0,0,0,0,0,0,0,0,0,0,0,0,0,0,0,0,0,0,0,0,0,0,0,0,0,0,0,0,0,0,0,0,0,0,0,0,0,0,0,0,0,0,0,0,0,0,0,0,0,0,0,0,0,0,0,0,0,0,0,0,0,0,0,0,0,0,0,0,0,0,0,13,78,161,221,254,254,254,162,65,0,0,0,0,0,0,0,0,0,0,0,0,0,0,0,0,0,0,38,159,253,253,254,253,253,253,254,249,222,55,0,0,0,0,0,0,0,0,0,0,0,0,0,0,0,43,187,253,225,137,46,46,46,46,138,234,253,236,85,0,0,0,0,0,0,0,0,0,0,0,0,0,0,127,254,185,13,0,0,0,0,0,0,138,253,253,184,0,0,0,0,0,0,0,0,0,0,0,0,0,24,254,210,9,0,0,0,0,0,0,70,212,254,254,93,0,0,0,0,0,0,0,0,0,0,0,0,0,24,253,197,21,0,0,0,0,38,114,212,253,232,173,9,0,0,0,0,0,0,0,0,0,0,0,0,0,13,221,254,211,30,0,0,89,245,253,239,96,25,0,0,0,0,0,0,0,0,0,0,0,0,0,0,0,0,84,220,253,213,93,119,247,253,185,25,0,0,0,0,0,0,0,0,0,0,0,0,0,0,0,0,0,0,0,26,189,254,254,255,254,146,0,0,0,0,0,0,0,0,0,0,0,0,0,0,0,0,0,0,0,0,0,0,5,111,253,254,177,4,0,0,0,0,0,0,0,0,0,0,0,0,0,0,0,0,0,0,0,0,0,0,0,74,253,254,228,21,0,0,0,0,0,0,0,0,0,0,0,0,0,0,0,0,0,0,0,0,0,0,34,240,219,120,253,46,0,0,0,0,0,0,0,0,0,0,0,0,0,0,0,0,0,0,0,0,0,0,106,239,25,45,245,46,0,0,0,0,0,0,0,0,0,0,0,0,0,0,0,0,0,0,0,0,0,13,226,179,0,87,253,46,0,0,0,0,0,0,0,0,0,0,0,0,0,0,0,0,0,0,0,0,0,70,232,42,0,203,173,9,0,0,0,0,0,0,0,0,0,0,0,0,0,0,0,0,0,0,0,0,0,104,206,0,0,254,48,0,0,0,0,0,0,0,0,0,0,0,0,0,0,0,0,0,0,0,0,0,0,162,182,0,85,236,17,0,0,0,0,0,0,0,0,0,0,0,0,0,0,0,0,0,0,0,0,0,0,212,115,30,222,118,0,0,0,0,0,0,0,0,0,0,0,0,0,0,0,0,0,0,0,0,0,0,0,203,211,178,202,0,0,0,0,0,0,0,0,0,0,0,0,0,0,0,0,0,0,0,0,0,0,0,0,45,245,202,19,0,0,0,0,0,0,0,0,0,0,0,0,0,0,0,0,0,0,0,0,0,0,0,0,0,0,0,0,0,0,0,0,0,0,0,0,0,0,0,0,0,0]'"
      ]
     },
     "execution_count": 29,
     "metadata": {},
     "output_type": "execute_result"
    }
   ],
   "source": [
    "URL = 'http://localhost:8800/print_image/'\n",
    "\n",
    "headers = {'Content-type': 'application/json','accept': 'application/json'}\n",
    "\n",
    "payload = {\"img\": \n",
    "    X_test[k].astype(int).tolist()\n",
    "  }\n",
    "\n",
    "response = requests.get(URL, data=json.dumps(payload), headers=headers)\n",
    "\n",
    "response.text"
   ]
  },
  {
   "cell_type": "code",
   "execution_count": null,
   "metadata": {},
   "outputs": [
    {
     "data": {
      "text/plain": [
       "'Internal Server Error'"
      ]
     },
     "execution_count": 31,
     "metadata": {},
     "output_type": "execute_result"
    }
   ],
   "source": [
    "URL = 'http://localhost:8800/predict_image/'\n",
    "\n",
    "headers = {'Content-type': 'application/json','accept': 'application/json'}\n",
    "\n",
    "payload = {\"img\": \n",
    "    X_test[k].astype(int).tolist()\n",
    "  }\n",
    "\n",
    "response = requests.post(URL, data=json.dumps(payload), headers=headers)\n",
    "\n",
    "response.text"
   ]
  }
 ],
 "metadata": {
  "kernelspec": {
   "display_name": "notebook_env_python3_11",
   "language": "python",
   "name": "python3"
  },
  "language_info": {
   "codemirror_mode": {
    "name": "ipython",
    "version": 3
   },
   "file_extension": ".py",
   "mimetype": "text/x-python",
   "name": "python",
   "nbconvert_exporter": "python",
   "pygments_lexer": "ipython3",
   "version": "3.8.3"
  }
 },
 "nbformat": 4,
 "nbformat_minor": 2
}
